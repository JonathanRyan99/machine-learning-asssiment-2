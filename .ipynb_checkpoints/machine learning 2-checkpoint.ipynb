{
 "cells": [
  {
   "cell_type": "code",
   "execution_count": 119,
   "metadata": {},
   "outputs": [],
   "source": [
    "#https://stackabuse.com/introduction-to-neural-networks-with-scikit-learn/\n",
    "\n",
    "import numpy as np # maffs\n",
    "import pandas as pd # importing the data and some manipulation\n",
    "import matplotlib.pyplot as plt # math visulization\n",
    "import seaborn as sns #works of plt to make visulisation easier\n",
    "import warnings #ignores common warnings user friendlyness\n",
    "warnings.filterwarnings('ignore')\n",
    "from sklearn.model_selection import train_test_split #allows me to easily split the data set (its also random)\n",
    "from sklearn.neural_network import MLPClassifier# classifer model\n",
    "from sklearn.metrics import accuracy_score # gives accurcy of the prediction\n",
    "\n",
    "from sklearn.ensemble import RandomForestClassifier #use this to get random forest\n",
    "\n"
   ]
  },
  {
   "cell_type": "code",
   "execution_count": 120,
   "metadata": {},
   "outputs": [],
   "source": [
    "dataset = pd.read_csv('data_set.csv')\n",
    "#dataset.head(5) #test the import"
   ]
  },
  {
   "cell_type": "code",
   "execution_count": 121,
   "metadata": {},
   "outputs": [
    {
     "data": {
      "text/plain": [
       "Status                   0\n",
       "Power_range_sensor_1     0\n",
       "Power_range_sensor_2     0\n",
       "Power_range_sensor_3     0\n",
       "Power_range_sensor_4     0\n",
       "Pressure _sensor_1       0\n",
       "Pressure _sensor_2       0\n",
       "Pressure _sensor_3       0\n",
       "Pressure _sensor_4       0\n",
       "Vibration_sensor_1       0\n",
       "Vibration_sensor_2       0\n",
       "Vibration_sensor_3       0\n",
       "Vibration_sensor_4       0\n",
       "dtype: int64"
      ]
     },
     "execution_count": 121,
     "metadata": {},
     "output_type": "execute_result"
    }
   ],
   "source": [
    "dataset.isnull().sum() #checks for NULL data, none found in any of the coloums"
   ]
  },
  {
   "cell_type": "code",
   "execution_count": 122,
   "metadata": {},
   "outputs": [],
   "source": [
    "#status is categorical data, but sinces its one of 2 options it can just be changed to be 1 or 0 \n",
    "#where 1 is normal and 0 is abnormal\n",
    "#this method doesnt create a truth table with extra columns like OneHotEncoder or pandas dumby does.\n",
    "\n",
    "dataset = dataset.replace(to_replace = \"Normal\", value = 1) \n",
    "dataset = dataset.replace(to_replace = \"Abnormal\", value = 0)\n",
    "#dataset.head(5)\n",
    "#dataset.tail(5)"
   ]
  },
  {
   "cell_type": "code",
   "execution_count": 123,
   "metadata": {},
   "outputs": [
    {
     "data": {
      "text/plain": [
       "<matplotlib.axes._subplots.AxesSubplot at 0x2358de62860>"
      ]
     },
     "execution_count": 123,
     "metadata": {},
     "output_type": "execute_result"
    },
    {
     "data": {
      "image/png": "[encoded data removed]",
      "text/plain": [
       "<Figure size 432x288 with 1 Axes>"
      ]
     },
     "metadata": {
      "needs_background": "light"
     },
     "output_type": "display_data"
    }
   ],
   "source": [
    "#plot status with the vibration sensor, dots above are outlires\n",
    "sns.boxplot( x=dataset[\"Status\"], y=dataset[\"Vibration_sensor_1\"] )\n",
    "#sns.plt.show()\n",
    "#0 = abnormal,  1 = normal"
   ]
  },
  {
   "cell_type": "code",
   "execution_count": 124,
   "metadata": {},
   "outputs": [
    {
     "data": {
      "image/png": "[encoded data removed]",
      "text/plain": [
       "<Figure size 432x288 with 1 Axes>"
      ]
     },
     "metadata": {
      "needs_background": "light"
     },
     "output_type": "display_data"
    }
   ],
   "source": [
    "#vibration sensor density plot\n",
    "p1=sns.kdeplot(dataset['Vibration_sensor_2'], shade=True, color=\"r\")\n"
   ]
  },
  {
   "cell_type": "code",
   "execution_count": 140,
   "metadata": {},
   "outputs": [],
   "source": [
    "#section 3\n",
    "#X needs to be all but the status coloum\n",
    "X = dataset.iloc[:, 1:12]\n",
    "Y = dataset.iloc[:,0]\n",
    "X_train, X_test, y_train, y_test = train_test_split(X, Y , test_size = 0.10)\n"
   ]
  },
  {
   "cell_type": "code",
   "execution_count": 147,
   "metadata": {},
   "outputs": [
    {
     "data": {
      "text/plain": [
       "MLPClassifier(activation='logistic', alpha=0.0001, batch_size='auto',\n",
       "              beta_1=0.9, beta_2=0.999, early_stopping=False, epsilon=1e-08,\n",
       "              hidden_layer_sizes=(500, 500), learning_rate='constant',\n",
       "              learning_rate_init=0.01, max_iter=1000, momentum=0.9,\n",
       "              n_iter_no_change=10, nesterovs_momentum=True, power_t=0.5,\n",
       "              random_state=None, shuffle=True, solver='sgd', tol=0.0001,\n",
       "              validation_fraction=0.1, verbose=False, warm_start=False)"
      ]
     },
     "execution_count": 147,
     "metadata": {},
     "output_type": "execute_result"
    }
   ],
   "source": [
    "#sets up the hidden layers, 2 layers of 500 nodes, 1 epoch = 1000 look up MLPClassifier documentation\n",
    "#learning rate of 0.01 gives best accuracy = 0.86\n",
    "#solver = sgd which is stochastic gradient decnt which is linear -> logistic regression\n",
    "mlp = MLPClassifier(activation='logistic',hidden_layer_sizes=(500,500), max_iter=1000,learning_rate_init = 0.01, solver= 'sgd')\n",
    "mlp.fit(X_train, y_train)\n"
   ]
  },
  {
   "cell_type": "code",
   "execution_count": 148,
   "metadata": {},
   "outputs": [
    {
     "name": "stdout",
     "output_type": "stream",
     "text": [
      "0.86\n"
     ]
    }
   ],
   "source": [
    "MLP_predictions = mlp.predict(X_test)\n",
    "print(accuracy_score(y_test,MLP_predictions))"
   ]
  },
  {
   "cell_type": "code",
   "execution_count": 143,
   "metadata": {},
   "outputs": [
    {
     "data": {
      "text/plain": [
       "RandomForestClassifier(bootstrap=True, class_weight=None, criterion='gini',\n",
       "                       max_depth=None, max_features='auto', max_leaf_nodes=None,\n",
       "                       min_impurity_decrease=0.0, min_impurity_split=None,\n",
       "                       min_samples_leaf=50, min_samples_split=2,\n",
       "                       min_weight_fraction_leaf=0.0, n_estimators=1000,\n",
       "                       n_jobs=None, oob_score=False, random_state=None,\n",
       "                       verbose=0, warm_start=False)"
      ]
     },
     "execution_count": 143,
     "metadata": {},
     "output_type": "execute_result"
    }
   ],
   "source": [
    "#random forest\n",
    "#n_estimators = trees (decesion tree)\n",
    "#min_samples_leaf = number of leaves on a tree\n",
    "clf = RandomForestClassifier(n_estimators = 1000,min_samples_leaf= 50)\n",
    "clf.fit(X_train, y_train)"
   ]
  },
  {
   "cell_type": "code",
   "execution_count": 144,
   "metadata": {},
   "outputs": [
    {
     "name": "stdout",
     "output_type": "stream",
     "text": [
      "0.72\n"
     ]
    }
   ],
   "source": [
    "Forest_predictions = clf.predict(X_test)\n",
    "print(accuracy_score(y_test,Forest_predictions))"
   ]
  },
  {
   "cell_type": "code",
   "execution_count": null,
   "metadata": {},
   "outputs": [],
   "source": []
  }
 ],
 "metadata": {
  "kernelspec": {
   "display_name": "Python 3",
   "language": "python",
   "name": "python3"
  },
  "language_info": {
   "codemirror_mode": {
    "name": "ipython",
    "version": 3
   },
   "file_extension": ".py",
   "mimetype": "text/x-python",
   "name": "python",
   "nbconvert_exporter": "python",
   "pygments_lexer": "ipython3",
   "version": "3.7.3"
  }
 },
 "nbformat": 4,
 "nbformat_minor": 2
}
